{
  "nbformat": 4,
  "nbformat_minor": 0,
  "metadata": {
    "colab": {
      "provenance": [],
      "authorship_tag": "ABX9TyOvvCWzmsyjHJqLW30EveP6",
      "include_colab_link": true
    },
    "kernelspec": {
      "name": "python3",
      "display_name": "Python 3"
    },
    "language_info": {
      "name": "python"
    }
  },
  "cells": [
    {
      "cell_type": "markdown",
      "metadata": {
        "id": "view-in-github",
        "colab_type": "text"
      },
      "source": [
        "<a href=\"https://colab.research.google.com/github/ACDCfutureVoice/st-zvanu-demo/blob/main/app.ipynb\" target=\"_parent\"><img src=\"https://colab.research.google.com/assets/colab-badge.svg\" alt=\"Open In Colab\"/></a>"
      ]
    },
    {
      "cell_type": "code",
      "execution_count": null,
      "metadata": {
        "colab": {
          "base_uri": "https://localhost:8080/"
        },
        "id": "WqIPGDl28t4U",
        "outputId": "095a790a-8a17-4f7d-bb75-fd80864f4a2c"
      },
      "outputs": [
        {
          "output_type": "stream",
          "name": "stdout",
          "text": [
            "Requirement already satisfied: flask in /usr/local/lib/python3.11/dist-packages (3.1.0)\n",
            "Requirement already satisfied: pandas in /usr/local/lib/python3.11/dist-packages (2.2.2)\n",
            "Collecting pyngrok\n",
            "  Downloading pyngrok-7.2.4-py3-none-any.whl.metadata (8.7 kB)\n",
            "Requirement already satisfied: Werkzeug>=3.1 in /usr/local/lib/python3.11/dist-packages (from flask) (3.1.3)\n",
            "Requirement already satisfied: Jinja2>=3.1.2 in /usr/local/lib/python3.11/dist-packages (from flask) (3.1.6)\n",
            "Requirement already satisfied: itsdangerous>=2.2 in /usr/local/lib/python3.11/dist-packages (from flask) (2.2.0)\n",
            "Requirement already satisfied: click>=8.1.3 in /usr/local/lib/python3.11/dist-packages (from flask) (8.1.8)\n",
            "Requirement already satisfied: blinker>=1.9 in /usr/local/lib/python3.11/dist-packages (from flask) (1.9.0)\n",
            "Requirement already satisfied: numpy>=1.23.2 in /usr/local/lib/python3.11/dist-packages (from pandas) (2.0.2)\n",
            "Requirement already satisfied: python-dateutil>=2.8.2 in /usr/local/lib/python3.11/dist-packages (from pandas) (2.8.2)\n",
            "Requirement already satisfied: pytz>=2020.1 in /usr/local/lib/python3.11/dist-packages (from pandas) (2025.2)\n",
            "Requirement already satisfied: tzdata>=2022.7 in /usr/local/lib/python3.11/dist-packages (from pandas) (2025.2)\n",
            "Requirement already satisfied: PyYAML>=5.1 in /usr/local/lib/python3.11/dist-packages (from pyngrok) (6.0.2)\n",
            "Requirement already satisfied: MarkupSafe>=2.0 in /usr/local/lib/python3.11/dist-packages (from Jinja2>=3.1.2->flask) (3.0.2)\n",
            "Requirement already satisfied: six>=1.5 in /usr/local/lib/python3.11/dist-packages (from python-dateutil>=2.8.2->pandas) (1.17.0)\n",
            "Downloading pyngrok-7.2.4-py3-none-any.whl (23 kB)\n",
            "Installing collected packages: pyngrok\n",
            "Successfully installed pyngrok-7.2.4\n"
          ]
        }
      ],
      "source": [
        "!pip install flask pandas pyngrok\n"
      ]
    },
    {
      "cell_type": "code",
      "source": [
        "from flask import Flask, request, jsonify\n",
        "import pandas as pd\n",
        "\n",
        "app = Flask(__name__)\n",
        "\n",
        "# Google Sheet CSV (publisks links)\n",
        "CSV_URL = 'https://docs.google.com/spreadsheets/d/e/2PACX-1vRHyBdeEBxrrkAmxMzE5HJlzxTjmyTtsf1Ed2Y4Gf2R--4y0Cjhx97f9e1z61CnXQ92o_JanHyLaQUu/pub?output=csv'\n",
        "df = pd.read_csv(CSV_URL)\n",
        "\n",
        "@app.route(\"/webhooks/answer\", methods=['GET'])\n",
        "def answer_call():\n",
        "    caller = request.args.get('from')\n",
        "    client_data = df[df['Telefons'] == caller]\n",
        "\n",
        "    if client_data.empty:\n",
        "        teksts = \"Atvainojiet, Jūsu numurs nav atpazīts mūsu sistēmā.\"\n",
        "    else:\n",
        "        vards = client_data.iloc[0]['Vārds']\n",
        "        adreses = ', '.join(client_data['Adrese'].unique())\n",
        "        teksts = f\"Labdien, {vards}. Jūsu adreses: {adreses}.\"\n",
        "\n",
        "    return jsonify([\n",
        "        {\"action\": \"talk\",\n",
        "         \"voiceName\": \"Tatyana\",\n",
        "         \"text\": teksts,\n",
        "         \"language\": \"lv-LV\"}\n",
        "    ])\n",
        "\n",
        "# Palaižam Flask serveri (uz porta 5000)\n",
        "app.run(port=5000)\n"
      ],
      "metadata": {
        "colab": {
          "base_uri": "https://localhost:8080/"
        },
        "id": "U0o7Q6kBBQiH",
        "outputId": "8b6df223-b987-4c7b-82f0-9601ee41dd4b"
      },
      "execution_count": 4,
      "outputs": [
        {
          "metadata": {
            "tags": null
          },
          "name": "stdout",
          "output_type": "stream",
          "text": [
            " * Serving Flask app '__main__'\n",
            " * Debug mode: off\n"
          ]
        },
        {
          "metadata": {
            "tags": null
          },
          "name": "stderr",
          "output_type": "stream",
          "text": [
            "INFO:werkzeug:\u001b[31m\u001b[1mWARNING: This is a development server. Do not use it in a production deployment. Use a production WSGI server instead.\u001b[0m\n",
            " * Running on http://127.0.0.1:5000\n",
            "INFO:werkzeug:\u001b[33mPress CTRL+C to quit\u001b[0m\n"
          ]
        }
      ]
    },
    {
      "cell_type": "code",
      "source": [
        "from pyngrok import ngrok\n",
        "\n",
        "# Šeit ievieto savu NGROK_TOKEN\n",
        "ngrok.set_auth_token(\"2w6Gnoq9xsInLbhqFd0yCmxvM0k_3R2YxvdckwSkJKkLdNPqQ\")\n",
        "\n",
        "# Atver publisko URL\n",
        "public_url = ngrok.connect(5000)\n",
        "print(\"🚀 Publiskais URL:\", public_url)\n",
        "\n"
      ],
      "metadata": {
        "id": "Q8NOX-CdPsVR",
        "colab": {
          "base_uri": "https://localhost:8080/"
        },
        "outputId": "781fc702-fe40-4af1-ef50-9ce6f259d23f"
      },
      "execution_count": 7,
      "outputs": [
        {
          "output_type": "stream",
          "name": "stdout",
          "text": [
            "🚀 Publiskais URL: NgrokTunnel: \"https://d393-34-90-187-136.ngrok-free.app\" -> \"http://localhost:5000\"\n"
          ]
        }
      ]
    }
  ]
}